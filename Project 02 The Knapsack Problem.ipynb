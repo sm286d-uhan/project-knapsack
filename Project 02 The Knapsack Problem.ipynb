{
 "cells": [
  {
   "cell_type": "markdown",
   "metadata": {},
   "source": [
    "<h4 class='prehead'>SM286D &middot; Introduction to Applied Mathematics with Python &middot; Spring 2020 &middot; Foraker/Traves/Uhan</h4>\n",
    "\n",
    "<h3 class='lesson'>Project 2.</h3>\n",
    "\n",
    "<h1 class='lesson_title'>The Knapsack Problem</h1>"
   ]
  },
  {
   "cell_type": "markdown",
   "metadata": {},
   "source": [
    "__Mathematical goals.__ Introduction to the knapsack problem, brute-force approaches to optimization.\n",
    "\n",
    "__Programming goals.__ For loops, dictionaries."
   ]
  },
  {
   "cell_type": "markdown",
   "metadata": {},
   "source": [
    "# Background"
   ]
  },
  {
   "cell_type": "markdown",
   "metadata": {},
   "source": [
    "Suppose you are a thief planning a heist on a vault. You know the vault contains the following items:\n",
    "\n",
    "| Item            | Value (\\$/item) | Weight (g/item) | Number available |\n",
    "| --------------- | --------------- | --------------- | ---------------- |\n",
    "| Gold bar        | 5185            | 100             | 4                |\n",
    "| Silver bar      | 475             | 700             | 7                |\n",
    "| Platinum bar    | 10781           | 10              | 11               |\n",
    "\n",
    "You have a knapsack that can hold at most 3 kg (3000 g). Which items should you take to maximize the value of your theft?"
   ]
  },
  {
   "cell_type": "markdown",
   "metadata": {},
   "source": [
    "This is an example of the [__knapsack problem__](https://en.wikipedia.org/wiki/Knapsack_problem): given a set of items, each with a weight and value, determine the number of each item to select so that the total weight is less than or equal to a given limit, and the total value is as large as possible.\n",
    "\n",
    "The knapsack problem is one of the most studied optimization problems in operations research and computer science. Aside from thievery, there are many practical applications of the knapsack problem, such as minimizing waste when cutting raw materials, and finding an optimal selection of investments for a portfolio.  The knapsack problem also often appears as a subproblem for larger optimization problems."
   ]
  },
  {
   "cell_type": "markdown",
   "metadata": {},
   "source": [
    "In SA305 and SA405 (and SA367 if you take it), you'll learn more about different ways to model and solve the knapsack problem. For this project, you will solve a few knapsack problems using __brute force__."
   ]
  },
  {
   "cell_type": "markdown",
   "metadata": {},
   "source": [
    "---"
   ]
  },
  {
   "cell_type": "markdown",
   "metadata": {},
   "source": [
    "## Your assignment"
   ]
  },
  {
   "cell_type": "markdown",
   "metadata": {},
   "source": [
    "### Part 1. Warm-up"
   ]
  },
  {
   "cell_type": "markdown",
   "metadata": {},
   "source": [
    "The code cell below defines several dictionaries representing the value, weight, and number available for each of the 3 items above. It also defines a variable for the maximum weight your knapsack can hold."
   ]
  },
  {
   "cell_type": "code",
   "execution_count": null,
   "metadata": {
    "run_control": {
     "marked": false
    }
   },
   "outputs": [],
   "source": [
    "# Value in dollars\n",
    "value = {\n",
    "    'gold bar': 5185,\n",
    "    'silver bar': 475,\n",
    "    'platinum bar': 10781\n",
    "}\n",
    "\n",
    "# Weight in grams\n",
    "weight = {\n",
    "    'gold bar': 100,\n",
    "    'silver bar': 700,\n",
    "    'platinum bar': 10\n",
    "}\n",
    "\n",
    "# Number of bars and coins in the vault\n",
    "available = {\n",
    "    'gold bar': 4,\n",
    "    'silver bar': 7,\n",
    "    'platinum bar': 11   \n",
    "}\n",
    "\n",
    "# Maximum weight the knapsack can hold\n",
    "max_weight = 3000"
   ]
  },
  {
   "cell_type": "markdown",
   "metadata": {},
   "source": [
    "Your goal is to solve this instance of the knapsack problem by brute force: in other words, enumerate all the possible solutions, and pick the best one."
   ]
  },
  {
   "cell_type": "markdown",
   "metadata": {},
   "source": [
    "__(a)__ In the code cell below, write a nested `for` loop that iterates through every possible solution: that is, every possible combination of gold, silver, and platinum bars:\n",
    "\n",
    "| Gold bar | Silver bar | Platinum bar |\n",
    "| -------- | ---------- | ------------ |\n",
    "| 0        | 0          | 0            |\n",
    "| 0        | 0          | 1            |\n",
    "| $\\vdots$ | $\\vdots$   | $\\vdots$     |\n",
    "| 0        | 0          | 4            |\n",
    "| 1        | 0          | 0            |\n",
    "| 1        | 0          | 1            |\n",
    "| $\\vdots$ | $\\vdots$   | $\\vdots$     |\n",
    "| 4        | 7          | 11           |\n",
    "\n",
    "At each iteration, compute the total value and total weight of the combination of gold, silver, and platinum bars.\n",
    "Check if the combination represents a __feasible solution__: the total weight of the combination is less than the maximum weight that the knapsack will hold.\n",
    "If it does, create a dictionary representing this feasible solution &mdash; something like this:\n",
    "\n",
    "```python\n",
    "new_feasible_solution = {\n",
    "    'gold bars': number of gold bars,\n",
    "    'silver bars': number of silver bars,\n",
    "    'platinum bars': number of platinum bars,\n",
    "    'total value': total value of combination,\n",
    "    'total weight': total weight of combination\n",
    "}\n",
    "```\n",
    "\n",
    "Add all of these feasible solution dictionaries to a list called `feasible_solutions`."
   ]
  },
  {
   "cell_type": "code",
   "execution_count": null,
   "metadata": {},
   "outputs": [],
   "source": []
  },
  {
   "cell_type": "markdown",
   "metadata": {},
   "source": [
    "__(b)__ In the code cell below, use the list called `feasible_solutions` you created above to count the number of feasible solutions. Print this number.\n",
    "\n",
    "_Hint._ You should have 264 feasible solutions."
   ]
  },
  {
   "cell_type": "code",
   "execution_count": null,
   "metadata": {},
   "outputs": [],
   "source": []
  },
  {
   "cell_type": "markdown",
   "metadata": {},
   "source": [
    "__(c)__ Finally, in the code cell below, loop through all the dictionaries in `feasible_solutions` to find the feasible solution with the maximum total value. Print both the feasible solution (i.e. number of gold, silver, and platinum bars to steal) as well as the maximum total value."
   ]
  },
  {
   "cell_type": "code",
   "execution_count": null,
   "metadata": {},
   "outputs": [],
   "source": []
  },
  {
   "cell_type": "markdown",
   "metadata": {},
   "source": [
    "### Part 2. New intel on the vault"
   ]
  },
  {
   "cell_type": "markdown",
   "metadata": {},
   "source": [
    "You've received some new information about the vault &mdash; in addition to the bars of gold, silver, and platinum, there are coins as well!\n",
    "\n",
    "| Item            | Value (\\$/item) | Weight (g/item) | Number available |\n",
    "| --------------- | --------------- | --------------- | ---------------- |\n",
    "| Gold bar        | 5185            | 100             | 4                |\n",
    "| Silver bar      | 475             | 700             | 7                |\n",
    "| Platinum bar    | 10781           | 10              | 11               |\n",
    "| Gold coin       | 805             | 15              | 27               |\n",
    "| Silver coin     | 194             | 30              | 49               |\n",
    "| Platinum coin   | 1087            | 25              | 22               |"
   ]
  },
  {
   "cell_type": "markdown",
   "metadata": {},
   "source": [
    "__(a)__ In the code cell below, define 3 dictionaries called `value`, `weight`, and `available` that contain the data in the table above. In addition, define a variable `max_weight` that represents the maximum weight your knapsack can hold."
   ]
  },
  {
   "cell_type": "code",
   "execution_count": null,
   "metadata": {},
   "outputs": [],
   "source": []
  },
  {
   "cell_type": "markdown",
   "metadata": {},
   "source": [
    "__(b)__ In the code cell below, create a list of dictionaries called `feasible_solutions`, with each dictionary representing a feasible solution, just like you did in (a) in Part 1.\n",
    "\n",
    "Remember that each dictionary representing a feasible solution should also contain information about the number of gold, silver, and platinum coins (in addition to the number of gold, silver, and platinum bars, as well as the total value and weight)."
   ]
  },
  {
   "cell_type": "code",
   "execution_count": null,
   "metadata": {},
   "outputs": [],
   "source": []
  },
  {
   "cell_type": "markdown",
   "metadata": {},
   "source": [
    "__(c)__ In the code cell below, use the list called `feasible_solutions` you created above to count the number of feasible solutions. Print this number."
   ]
  },
  {
   "cell_type": "code",
   "execution_count": null,
   "metadata": {},
   "outputs": [],
   "source": []
  },
  {
   "cell_type": "markdown",
   "metadata": {},
   "source": [
    "__(d)__ Finally, in the code cell below, loop through all the dictionaries in `feasible_solutions` to find the feasible solution with the maximum total value. Print both the feasible solution (i.e. number of gold, silver, and platinum bars and coins to steal) as well as the maximum total value.\n",
    "\n",
    "_Hint_. You should find that the best feasible solution has a total value of 194486."
   ]
  },
  {
   "cell_type": "code",
   "execution_count": null,
   "metadata": {
    "run_control": {
     "marked": false
    }
   },
   "outputs": [],
   "source": []
  },
  {
   "cell_type": "markdown",
   "metadata": {},
   "source": [
    "### Part 3. Better planning"
   ]
  },
  {
   "cell_type": "markdown",
   "metadata": {},
   "source": [
    "The morning of the heist, you realized that you had better take into account the maximum _volume_ your knapsack can hold as well. Here's the new data:\n",
    "\n",
    "| Item            | Value (\\$/item) | Weight (g/item) | Volume (cm$^3$/item) | Number available |\n",
    "| --------------- | --------------- | --------------- | -------------------- | ---------------- |\n",
    "| Gold bar        | 5185            | 100             | 6                    | 4                |\n",
    "| Silver bar      | 475             | 700             | 67                   | 7                |\n",
    "| Platinum bar    | 10781           | 10              | 1                    | 11               |\n",
    "| Gold coin       | 805             | 15              | 1                    | 27               |\n",
    "| Silver coin     | 194             | 30              | 3                    | 49               |\n",
    "| Platinum coin   | 1087            | 25              | 2                    | 22               |\n",
    "\n",
    "The maximum weight your knapsack can hold is 3 kg. The maximum volume your knapsack can hold is 200 cm$^3$."
   ]
  },
  {
   "cell_type": "markdown",
   "metadata": {},
   "source": [
    "__(a)__ In the code cell below, define 4 dictionaries called `value`, `weight`, `volume`, and `available` that contain the data in the table above. In addition, define variables `max_weight` and `max_volume` that represent the maximum weight and volume your knapsack can hold."
   ]
  },
  {
   "cell_type": "code",
   "execution_count": null,
   "metadata": {},
   "outputs": [],
   "source": []
  },
  {
   "cell_type": "markdown",
   "metadata": {},
   "source": [
    "__(b)__ In the code cell below, create a list of dictionaries called `feasible_solutions`, with each dictionary representing a feasible solution, just like you did in (b) in Part 2.\n",
    "\n",
    "Remember now that you need to check if the total volume of the items selected exceeds the maximum volume that the knapsack can hold. In addition, each dictionary representing a feasible solution should also contain information about the total volume."
   ]
  },
  {
   "cell_type": "code",
   "execution_count": null,
   "metadata": {},
   "outputs": [],
   "source": []
  },
  {
   "cell_type": "markdown",
   "metadata": {},
   "source": [
    "__(c)__ In the code cell below, use the list called `feasible_solutions` you created above to count the number of feasible solutions. Print this number."
   ]
  },
  {
   "cell_type": "code",
   "execution_count": null,
   "metadata": {
    "scrolled": true
   },
   "outputs": [],
   "source": []
  },
  {
   "cell_type": "markdown",
   "metadata": {},
   "source": [
    "__(d)__ Finally, in the code cell below, loop through all the dictionaries in `feasible_solutions` to find the feasible solution with the maximum total value. Print both the feasible solution (i.e. number of gold, silver, and platinum bars and coins to steal) as well as the maximum total value."
   ]
  },
  {
   "cell_type": "code",
   "execution_count": null,
   "metadata": {},
   "outputs": [],
   "source": []
  },
  {
   "cell_type": "markdown",
   "metadata": {},
   "source": [
    "### Part 4. Food for thought."
   ]
  },
  {
   "cell_type": "markdown",
   "metadata": {},
   "source": [
    "__(a)__ How do the total values of the best feasible solutions you found in Parts 2 and 3 compare? Does it make sense?"
   ]
  },
  {
   "cell_type": "markdown",
   "metadata": {},
   "source": [
    "_Write your answer here. Double-click to edit._"
   ]
  },
  {
   "cell_type": "markdown",
   "metadata": {},
   "source": [
    "__(b)__ How many possible solutions did you have check in Part 1? (How many iterations did your for loop have in Part 1(a)?) \n",
    "How would your answer change if the available number of each item doubled (8 gold bars, 14 silver bars, 22 platinum bars)? "
   ]
  },
  {
   "cell_type": "markdown",
   "metadata": {},
   "source": [
    "_Write your answer here. Double-click to edit._"
   ]
  },
  {
   "cell_type": "markdown",
   "metadata": {},
   "source": [
    "__(c)__ How would your answer to Part 2(b) change if there were 12 items instead of 6?"
   ]
  },
  {
   "cell_type": "markdown",
   "metadata": {},
   "source": [
    "_Write your answer here. Double-click to edit._"
   ]
  },
  {
   "cell_type": "markdown",
   "metadata": {},
   "source": [
    "__(d)__ Do you think this brute-force approach is a good idea? Why or why not?"
   ]
  },
  {
   "cell_type": "markdown",
   "metadata": {},
   "source": [
    "_Write your answer here. Double-click to edit._"
   ]
  },
  {
   "cell_type": "markdown",
   "metadata": {},
   "source": [
    "---"
   ]
  },
  {
   "cell_type": "markdown",
   "metadata": {},
   "source": [
    "## Grading"
   ]
  },
  {
   "cell_type": "markdown",
   "metadata": {},
   "source": [
    "Your work will be graded as follows (45 total points):\n",
    "\n",
    "- Creating the list of feasible solutions\n",
    "    - Nested for loop correctly implemented (Parts 1, 2, 3): 3 points\n",
    "    - Total value and weight correctly computed (Parts 1, 2 and 3): 3 points\n",
    "    - Total volume correctly computed (Part 3): 1 point\n",
    "    - Feasibility correctly checked for (Parts 1, 2, 3): 3 points\n",
    "    - Feasible solutions represented as dictionaries (Parts 1, 2, 3): 3 points\n",
    "    - List of feasible solutions correctly constructed (Parts 1, 2, 3): 3 points\n",
    "    - Number of feasible solutions correctly computed (Parts 1, 2, 3): 3 points\n",
    "\n",
    "\n",
    "- Translating data to dictionaries\n",
    "    - Dictionaries for item values correctly defined (Parts 2, 3): 2 points\n",
    "    - Dictionaries for item weights correctly defined (Parts 2, 3): 2 points\n",
    "    - Dictionaries for available numbers correctly defined (Parts 2, 3): 2 points\n",
    "    - Dictionary for item volumes correctly defined (Part 3): 1 point\n",
    "    - Variables for maximum weight and volume correctly defined (Parts 1, 2, 3): 1 point\n",
    "\n",
    "- Finding the best feasible solution\n",
    "    - For loop correctly implemented (Parts 1, 2, 3): 3 points\n",
    "    - Best feasible solution found and printed (Parts 1, 2, 3): 3 points\n",
    "    - Maximum total value found and printed (Parts 1, 2, 3): 3 points\n",
    "\n",
    "- Analysis (Part 4)\n",
    "    - Correct and clearly written answers to (a)-(d): 4 points\n",
    "\n",
    "- Documentation\n",
    "    - Comments throughout code describing logic in plain English: 5 points"
   ]
  }
 ],
 "metadata": {
  "kernelspec": {
   "display_name": "Python 3",
   "language": "python",
   "name": "python3"
  },
  "language_info": {
   "codemirror_mode": {
    "name": "ipython",
    "version": 3
   },
   "file_extension": ".py",
   "mimetype": "text/x-python",
   "name": "python",
   "nbconvert_exporter": "python",
   "pygments_lexer": "ipython3",
   "version": "3.6.4"
  }
 },
 "nbformat": 4,
 "nbformat_minor": 2
}
